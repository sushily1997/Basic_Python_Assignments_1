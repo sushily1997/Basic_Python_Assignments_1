{
  "nbformat": 4,
  "nbformat_minor": 0,
  "metadata": {
    "colab": {
      "name": "Copy of Copy of Copy of Copy of Assignment_1_Python.ipynb",
      "provenance": [],
      "include_colab_link": true
    },
    "kernelspec": {
      "name": "python3",
      "display_name": "Python 3"
    },
    "language_info": {
      "name": "python"
    }
  },
  "cells": [
    {
      "cell_type": "markdown",
      "metadata": {
        "id": "view-in-github",
        "colab_type": "text"
      },
      "source": [
        "<a href=\"https://colab.research.google.com/github/sushily1997/Basic_Python_Assignments_1/blob/main/_Assignment_1_Python.ipynb\" target=\"_parent\"><img src=\"https://colab.research.google.com/assets/colab-badge.svg\" alt=\"Open In Colab\"/></a>"
      ]
    },
    {
      "cell_type": "markdown",
      "source": [
        "1. What is a List?\n",
        "2. What is a Tuple?\n",
        "3. What is the difference between List and Tuple?\n",
        "4. Python Program to find the largest element in the list\n",
        "5. Python program to interchange first and last elements in a list. \n",
        "6. Python program to swap two elements in a list\n",
        "7. Python program to Reverse a List\n",
        "8. Python program to count occurrences of an element in a list\n",
        "9. Python program to find the sum of elements in a list\n",
        "10. Python program to Multiply all numbers in the list\n",
        "11. What are the ways to find the length of a list\n",
        "12. Python program to find the smallest and largest number in a list (Without\n",
        "min-max function)\n",
        "13. Python Program to find the area of a circle\n",
        "14. Take inputs from the user to make a list. Again take one input from the user and search it in the list and delete that element, if found. Iterate over a list using for loop.\n",
        "15. You are given a list of integer elements. Make a new list that will store a square of elements of the previous list. (With and without list comprehension) \n",
        "\n",
        "i.\n",
        "Input_list = [2,5,6,12]\n",
        "\n",
        "ii. Output_list = [4,25,36,144]"
      ],
      "metadata": {
        "id": "pqRwhVrfUkYk"
      }
    },
    {
      "cell_type": "markdown",
      "source": [
        "\n",
        "**Q 1) Python List** (With Examples)\n",
        "\n",
        "**Definition:-**A list is a data structure in Python that is a mutable, or changeable, ordered sequence of elements.\n",
        "\n",
        "The sequence is the most fundamental data structure in Python for storing multiple elements all at once. Each element of a series is given a number that represents its location or index. The first index is zero, the second one, and so on. Python contains six built-in sequence types, but the most frequent ones are lists and tuples. In this article, we will cover the entire concept of the Python list.\n",
        "\n",
        "•Python List\n",
        "\n",
        "Python Lists are similar to dynamically scaled arrays. They are used to hold a series of different formats of data. Python lists are changeable (mutable), which means they can have their elements changed after they are created. A Python list can also be defined as a collection of distinct types of values or items. The elements in the list are separated by using commas (,) and are surrounded by square brackets [].\n",
        "\n",
        "A single list can contain Datatypes such as Integers, Strings, and Objects. Lists are changeable, which means they can be changed even after they are created. Each element in the list has a different location in the list, allowing for the duplication of components in the list, each with its own individual place and credibility.\n",
        "\n",
        "•How to create a list?\n",
        "\n",
        "A Python list is generated in Python programming by putting all of the items (elements) inside square brackets [], separated by commas. It can include an unlimited number of elements of various data types (integer, float, string, etc.). Python Lists can also be created using the built-in list() method.\n"
      ],
      "metadata": {
        "id": "5fdQDAUnfkyM"
      }
    },
    {
      "cell_type": "code",
      "source": [
        "\n",
        "# Python program to create Lists\n",
        "# creating empty list\n",
        "my_list = []\n",
        "print(my_list)\n",
        "\n",
        "# creating list using square brackets\n",
        "name = ['sushil', 'mayur', 'rahul', 'arjun']\n",
        "print('List of name are:', name)\n",
        "\n",
        "# creating list with mixed values\n",
        "my_list = ['John', 23, 'Car', 45.2837]\n",
        "print(my_list)\n",
        "\n",
        "# nesting list inside a list\n",
        "nested = ['Values', [1, 2, 3], ['Marks']]\n",
        "print(nested)\n",
        "\n",
        "# creating list using built-in function\n",
        "print(list('Hello World'))"
      ],
      "metadata": {
        "colab": {
          "base_uri": "https://localhost:8080/"
        },
        "id": "W1R6u5bgl1fX",
        "outputId": "48673a0e-030b-4943-e7fe-67d042fdade6"
      },
      "execution_count": null,
      "outputs": [
        {
          "output_type": "stream",
          "name": "stdout",
          "text": [
            "[]\n",
            "List of name are: ['sushil', 'mayur', 'rahul', 'arjun']\n",
            "['John', 23, 'Car', 45.2837]\n",
            "['Values', [1, 2, 3], ['Marks']]\n",
            "['H', 'e', 'l', 'l', 'o', ' ', 'W', 'o', 'r', 'l', 'd']\n"
          ]
        }
      ]
    },
    {
      "cell_type": "markdown",
      "source": [
        "**Python List Methods**\n",
        "\n",
        "---\n",
        "\n",
        "\n",
        "**Methods**\t                        **Description**\n",
        "\n",
        "•append()  \tAdds a single element to the end of    the list\n",
        "\n",
        "•clear()   \tRemoves all the elements from the list\n",
        "\n",
        "•copy()    \tReturns a shallow copy of the list\n",
        "\n",
        "•count()   \tReturns the number of items specified as a parameter.\n",
        "\n",
        "•extend()  \tAdds multiple elements to the end of ..the list\n",
        "\n",
        "•index()\t    Returns the index value of the first matched item\n",
        "\n",
        "•insert()\tInserts an item at the specified index position\n",
        "\n",
        "•pop()\tReturns and removes an element at the specified index\n",
        "\n",
        "•remove()\tRemoves a specified item from the list\n",
        "\n",
        "•reverse()\tReverses the order of the entire list\n",
        "\n",
        "•sort()\tSorts all the items in an ascending order\n",
        "\n",
        "\n",
        "\n",
        "\n",
        "\n",
        "\n"
      ],
      "metadata": {
        "id": "PeeMIt0PsN2d"
      }
    },
    {
      "cell_type": "code",
      "source": [
        ""
      ],
      "metadata": {
        "id": "woYVmGPe5i_T"
      },
      "execution_count": null,
      "outputs": []
    },
    {
      "cell_type": "code",
      "source": [
        ""
      ],
      "metadata": {
        "id": "9Ft1HQIa5l1v"
      },
      "execution_count": null,
      "outputs": []
    },
    {
      "cell_type": "code",
      "source": [
        ""
      ],
      "metadata": {
        "id": "QjuoGilj5lEk"
      },
      "execution_count": null,
      "outputs": []
    },
    {
      "cell_type": "markdown",
      "source": [
        "**Q 2) Python Tuple (With Examples)**\n",
        "\n",
        "**Definition:-** Tuples are used to store multiple items in a single variable.\n",
        "\n",
        "You may want to construct a list of objects that cannot be altered while the application is running. Python Tuples are utilized to meet this requirement. They are frequently utilized internally in many of the systems on which we rely, such as databases. In Python, tuples are a fundamental data structure. Tuples store data in the sequence in which we input it. In this tutorial, we will look at the Python tuple and its numerous methods, uses, and so on.\n",
        "\n",
        "•Python Tuple\n",
        "\n",
        "Python Tuple is an immutable (unchangeable) collection of various data type elements. Tuples are used to keep a list of immutable Python objects. The tuple is similar to lists in that the value of the items placed in the list can be modified, however the tuple is immutable and its value cannot be changed.\n",
        "\n",
        "•Creating a Tuple\n",
        "\n",
        "A tuple is formed by enclosing all of the items (elements) in parentheses () rather than square brackets [], and each element is separated by commas. A tuple can contain any number of objects of various sorts (integer, float, list, string, etc.). A tuple can include elements with different data types. You can also specify nested tuples, which have one or more entries that are lists, tuples, or dictionaries."
      ],
      "metadata": {
        "id": "gWrqQO6C5f9u"
      }
    },
    {
      "cell_type": "code",
      "source": [
        "\n",
        "# Python program to create Tuples\n",
        "# empty tuple\n",
        "my_tuple = ()\n",
        "print(my_tuple)\n",
        "\n",
        "# tuple with integer values\n",
        "num = (100, 35, 7, 21)\n",
        "print(num)\n",
        "\n",
        "# tuple with mixed values\n",
        "my_tuple = (23.545, 'Hello', 'A', 785)\n",
        "print(my_tuple)\n",
        "\n",
        "# nested tuples\n",
        "my_tuple = ('Python', [2, 4, 6], (1, 3, 5))\n",
        "print(my_tuple)"
      ],
      "metadata": {
        "colab": {
          "base_uri": "https://localhost:8080/"
        },
        "id": "cajC23KS6fFo",
        "outputId": "887fac74-cbd8-4a60-d0fe-dfb293dc1756"
      },
      "execution_count": null,
      "outputs": [
        {
          "output_type": "stream",
          "name": "stdout",
          "text": [
            "()\n",
            "(100, 35, 7, 21)\n",
            "(23.545, 'Hello', 'A', 785)\n",
            "('Python', [2, 4, 6], (1, 3, 5))\n"
          ]
        }
      ]
    },
    {
      "cell_type": "markdown",
      "source": [
        "A tuple can also be formed without the use of parentheses. This is referred to as Tuple Packing. The parentheses are optional, however, it is recommended that they be used.\n",
        "\n",
        "Example"
      ],
      "metadata": {
        "id": "QG9hJQgQ6nR1"
      }
    },
    {
      "cell_type": "code",
      "source": [
        "\n",
        "# Python program to create Tuples\n",
        "val = 100, 00.245, 'Apple', 21\n",
        "print(val)\n",
        " \n",
        "# tuple unpacking is also possible\n",
        "a, b, c, d = val\n",
        "print(a)\n",
        "print(b)\n",
        "print(c)\n",
        "print(d)"
      ],
      "metadata": {
        "colab": {
          "base_uri": "https://localhost:8080/"
        },
        "id": "S9ssR_d961PU",
        "outputId": "792aca3d-e2e1-4026-a71b-d3f9695dc535"
      },
      "execution_count": null,
      "outputs": [
        {
          "output_type": "stream",
          "name": "stdout",
          "text": [
            "(100, 0.245, 'Apple', 21)\n",
            "100\n",
            "0.245\n",
            "Apple\n",
            "21\n"
          ]
        }
      ]
    },
    {
      "cell_type": "markdown",
      "source": [
        "Creating a tuple using only 1 value element is a bit tricky. To create a tuple containing only 1 element, we need to succeed it by a trailing comma to indicate that it is a tuple.\n",
        "\n",
        "Example"
      ],
      "metadata": {
        "id": "4SJu5Vwn7F6f"
      }
    },
    {
      "cell_type": "code",
      "source": [
        "\n",
        "# Python program to create Tuples\n",
        "my_tuple = ('Programming')\n",
        "print(type(my_tuple))\n",
        "\n",
        "# Creating a tuple having one element\n",
        "my_tuple = ('Programming',)\n",
        "print(type(my_tuple))\n",
        "\n",
        "# Parentheses is optional\n",
        "my_tuple = 'Python',\n",
        "print(type(my_tuple))"
      ],
      "metadata": {
        "colab": {
          "base_uri": "https://localhost:8080/"
        },
        "id": "T47O6gne7EJH",
        "outputId": "8ee8de7b-47bb-4373-b4b3-d75d827efc69"
      },
      "execution_count": null,
      "outputs": [
        {
          "output_type": "stream",
          "name": "stdout",
          "text": [
            "<class 'str'>\n",
            "<class 'tuple'>\n",
            "<class 'tuple'>\n"
          ]
        }
      ]
    },
    {
      "cell_type": "markdown",
      "source": [
        "**Q 3) Python | Difference Between List and Tuple**\n",
        "\n",
        "List and Tuple in Python are the class of data structure. The list is dynamic, whereas the tuple has static characteristics. \n",
        "\n",
        "List is just like the arrays, declared in other languages. Lists need not be homogeneous always which makes it the most powerful tool in Python. In Python, the list is a type of container in Data Structures, which is used to store multiple data at the same time. Lists are a useful tool for preserving a sequence of data and further iterating over it. \n",
        "\n",
        "Syntax: \n",
        "\n",
        "list_data = ['an', 'example', 'of', 'a', 'list']\n",
        "\n",
        "Tuple is also a sequence data type that can contain elements of different data types, but these are immutable in nature. In other words, a tuple is a collection of Python objects separated by commas. The tuple is faster than the list because of static in nature.\n",
        "\n",
        "Syntax:  \n",
        "\n",
        "tuple_data = ('this', 'is', 'an', 'example', 'of', 'tuple')\n",
        "\n",
        "**Difference Between List and Tuple in Python:** \n",
        "\n",
        "\n",
        "**LIST**\n",
        "\n",
        "1)List are mutable \n",
        "\n",
        "2)Implication of iterations is Time-consuming\n",
        "\n",
        "3)The lost is better for performing operations,such as insertion and deletion\n",
        "\n",
        "4)List consume more memory\n",
        "\n",
        "5)List have several built-in methods\n",
        "\n",
        "6)Theunexpected changes and errors are more likely to occur\n",
        "\n",
        "**TUPLE**\n",
        "\n",
        "1)Tuples are immutable\n",
        "\n",
        "2)The implication of iteration is comparatively Faster\n",
        "\n",
        "3)Tuple data tyoe is appropriate for accessing the elements.\n",
        "\n",
        "4)Tuple consume less memory as compared to the list\n",
        "\n",
        "5)Tuple dose not have many built-in methods.\n",
        "\n",
        "6)In tuple,it is hard to take place.\n",
        "\n",
        "\n",
        "\n"
      ],
      "metadata": {
        "id": "I7hjRck3EnTA"
      }
    },
    {
      "cell_type": "markdown",
      "source": [
        "**Q 4) Program to find the largest element in list**\n",
        "\n",
        "•problem solution\n",
        "\n",
        "1.Take in the number of element and store it in variable.\n",
        "\n",
        "2.Take in the element of the list one by one.\n",
        "\n",
        "3.Sort the list in ascending order.\n",
        "\n",
        "4.Print the last element of the list.\n",
        "\n",
        "5.Exit."
      ],
      "metadata": {
        "id": "Sp0DKbVxQBRp"
      }
    },
    {
      "cell_type": "code",
      "source": [
        "x=[40,28,53,28,38,80]\n",
        "print(\"The largest element in list:\",max(x))"
      ],
      "metadata": {
        "colab": {
          "base_uri": "https://localhost:8080/"
        },
        "id": "mEowNE8pDIN_",
        "outputId": "6001a54e-c479-4b6b-ddf5-8945afd0dad6"
      },
      "execution_count": null,
      "outputs": [
        {
          "output_type": "stream",
          "name": "stdout",
          "text": [
            "The largest element in list: 80\n"
          ]
        }
      ]
    },
    {
      "cell_type": "code",
      "source": [
        "a=[]\n",
        "x=int(input(\"Enter number of element:\"))\n",
        "for i in range(1,x+1):\n",
        "  y=int(input(\"Enter element:\"))\n",
        "  a.append(y)\n",
        "a.sort()\n",
        "print(\"Largest element is:\",a[x-1])"
      ],
      "metadata": {
        "colab": {
          "base_uri": "https://localhost:8080/"
        },
        "id": "eH84pn2ARdja",
        "outputId": "4b7ea3ee-ae02-4409-94cc-c31236430107"
      },
      "execution_count": null,
      "outputs": [
        {
          "output_type": "stream",
          "name": "stdout",
          "text": [
            "Enter number of element:6\n",
            "Enter element:40\n",
            "Enter element:28\n",
            "Enter element:53\n",
            "Enter element:28\n",
            "Enter element:38\n",
            "Enter element:80\n",
            "Largest element is: 80\n"
          ]
        }
      ]
    },
    {
      "cell_type": "markdown",
      "source": [
        "**program Explanation**\n",
        "\n",
        "1)User must enter the number of elements and store it in a variable.\n",
        "\n",
        "2.User must then enter the elements of the list one by one using a for loop and store it in a list.\n",
        "\n",
        "3.The list should then be sorted.\n",
        "\n",
        "4.Then the last element of the list is printed which is also thw largest element of the list."
      ],
      "metadata": {
        "id": "kNHxjw83S5Bu"
      }
    },
    {
      "cell_type": "markdown",
      "source": [
        "**Q 5) Python program to interchange first and last elements in a list.**\n",
        "\n",
        "In this method, we will use the comma assignment method from python. Here, we will store the first and last element tuple to the last and first element tuple."
      ],
      "metadata": {
        "id": "YnOJnFGXxPsC"
      }
    },
    {
      "cell_type": "code",
      "source": [
        "x = [8,2,3,4,5,6,7,1]\n",
        "a=x[0]\n",
        "b=x[-1]\n",
        "x[0]=b\n",
        "x[-1]=a\n",
        "print(x)\n"
      ],
      "metadata": {
        "colab": {
          "base_uri": "https://localhost:8080/"
        },
        "id": "nMI8JpDoBqLE",
        "outputId": "44397ef9-928f-45eb-f14e-714f40d1e33a"
      },
      "execution_count": null,
      "outputs": [
        {
          "output_type": "stream",
          "name": "stdout",
          "text": [
            "[1, 2, 3, 4, 5, 6, 7, 8]\n"
          ]
        }
      ]
    },
    {
      "cell_type": "code",
      "source": [
        "# Python program to interchange the \n",
        "# first and last element of a list\n",
        "\n",
        "# Creating a list \n",
        "myList = [1,2,3,4,5,6,7,8]\n",
        "print(\"Initial List : \", myList)\n",
        "\n",
        "# Swapping first and last element\n",
        "myList[0], myList[-1] = myList[-1], myList[0]\n",
        "\n",
        "print(\"List after Swapping : \", myList)"
      ],
      "metadata": {
        "colab": {
          "base_uri": "https://localhost:8080/"
        },
        "id": "u8P154-TxQy4",
        "outputId": "d158d0cb-56d2-45cb-f099-eedfd471f8ed"
      },
      "execution_count": null,
      "outputs": [
        {
          "output_type": "stream",
          "name": "stdout",
          "text": [
            "Initial List :  [1, 2, 3, 4, 5, 6, 7, 8]\n",
            "List after Swapping :  [8, 2, 3, 4, 5, 6, 7, 1]\n"
          ]
        }
      ]
    },
    {
      "cell_type": "markdown",
      "source": [
        "**Q 6) Python program to swap two elements in a list**"
      ],
      "metadata": {
        "id": "ENyiV1XS1Jmw"
      }
    },
    {
      "cell_type": "code",
      "source": [
        "a=[1,2,3,4,9,7,8,5]\n",
        "c=a[7]\n",
        "d=a[4]\n",
        "#swap the element\n",
        "a[4]=c\n",
        "a[7]=d\n",
        "print(a)"
      ],
      "metadata": {
        "colab": {
          "base_uri": "https://localhost:8080/"
        },
        "id": "JS4u2C0LxK5s",
        "outputId": "b4744a9e-9f43-4aab-dd8d-07c6ec328e5d"
      },
      "execution_count": null,
      "outputs": [
        {
          "output_type": "stream",
          "name": "stdout",
          "text": [
            "[1, 2, 3, 4, 5, 7, 8, 9]\n"
          ]
        }
      ]
    },
    {
      "cell_type": "code",
      "source": [
        "# Python program to swap element of a list\n",
        "\n",
        "# Getting list from user\n",
        "myList = []\n",
        "length = int(input(\"Enter number of elements: \"))\n",
        "for i in range(0, length):\n",
        "    val = int(input())\n",
        "    myList.append(val)\n",
        "\n",
        "print(\"Enter values to be swapped \")\n",
        "value1 = int(input(\"value 1: \"))\n",
        "value2 = int(input(\"value 2: \"))\n",
        "\n",
        "index1 = myList.index(value1)\n",
        "index2 = myList.index(value2)\n",
        "\n",
        "print(\"Initial List: \", myList)\n",
        "\n",
        "# Swapping given element\n",
        "myList[index1], myList[index2] = myList[index2], myList[index1]\n",
        "\n",
        "# Printing list \n",
        "print(\"List after Swapping: \", myList)"
      ],
      "metadata": {
        "colab": {
          "base_uri": "https://localhost:8080/"
        },
        "id": "QnVPkMeV0Wd4",
        "outputId": "51381912-4f8f-4034-9c6f-54fb0343e638"
      },
      "execution_count": null,
      "outputs": [
        {
          "output_type": "stream",
          "name": "stdout",
          "text": [
            "Enter number of elements: 5\n",
            "1\n",
            "5\n",
            "3\n",
            "4\n",
            "2\n",
            "Enter values to be swapped \n",
            "value 1: 5\n",
            "value 2: 2\n",
            "Initial List:  [1, 5, 3, 4, 2]\n",
            "List after Swapping:  [1, 2, 3, 4, 5]\n"
          ]
        }
      ]
    },
    {
      "cell_type": "code",
      "source": [
        ""
      ],
      "metadata": {
        "id": "__rbCFfVzdk2"
      },
      "execution_count": null,
      "outputs": []
    },
    {
      "cell_type": "markdown",
      "source": [
        "**Q 7) Python program to Reverse a List**\n",
        "\n",
        "we can reverse different types:-\n",
        "\n",
        "\n",
        "•Reverse a list in python with reverse function\n",
        "\n",
        "•Reverse a list in python with reversed iterator\n",
        "\n",
        "•Reverse a list in python without reverse function\n",
        "\n",
        "•How to reverse a list in python using while loop\n",
        "\n",
        "•Reverse a list in python using for loop\n",
        "\n",
        "•Reverse a list in python using slicing\n",
        "\n",
        "•Reverse a list in python using recursion"
      ],
      "metadata": {
        "id": "Iae05BUk1Vm-"
      }
    },
    {
      "cell_type": "code",
      "source": [
        "#using slic operator\n",
        "a=[1,2,3,4,5]\n",
        "a[::-1]"
      ],
      "metadata": {
        "colab": {
          "base_uri": "https://localhost:8080/"
        },
        "id": "p_lLX4r2A59-",
        "outputId": "9fa91be6-f2e6-4e9a-b022-906647dea37f"
      },
      "execution_count": null,
      "outputs": [
        {
          "output_type": "execute_result",
          "data": {
            "text/plain": [
              "[5, 4, 3, 2, 1]"
            ]
          },
          "metadata": {},
          "execution_count": 20
        }
      ]
    },
    {
      "cell_type": "code",
      "source": [
        "#using Reverse function\n",
        "res=[1,2,3,4,5,6,7,8]\n",
        "res.reverse()\n",
        "print(res)"
      ],
      "metadata": {
        "colab": {
          "base_uri": "https://localhost:8080/"
        },
        "id": "0S_ot0Zo1kfV",
        "outputId": "6a276c6e-75bc-4bb3-99df-2a57961f0a21"
      },
      "execution_count": null,
      "outputs": [
        {
          "output_type": "stream",
          "name": "stdout",
          "text": [
            "[8, 7, 6, 5, 4, 3, 2, 1]\n"
          ]
        }
      ]
    },
    {
      "cell_type": "markdown",
      "source": [
        "**Q 8) Python program to count occurrences of an element in a list**\n",
        "\n",
        "we can count some different methode:-\n",
        "\n",
        "1)Using count() method\n",
        "\n",
        "2) Using a loop\n",
        "\n",
        "3) Using countof() method\n",
        "\n",
        "4) Using counter() method\n"
      ],
      "metadata": {
        "id": "g3_3jBlG4yv2"
      }
    },
    {
      "cell_type": "code",
      "source": [
        "x = [10,11,12,13,10,12,11,13,11,12,10,15,14,15,14,15,10]\n",
        "\n",
        "print(\"the 10 is in list\",x.count(10),\"times\")\n",
        "print(x.count(12))\n",
        "print(x.count(13))\n",
        "print(x.count(14))\n",
        "print(x.count(15))\n",
        "print(x.count(16))"
      ],
      "metadata": {
        "colab": {
          "base_uri": "https://localhost:8080/"
        },
        "id": "p0iqlyo8AS5m",
        "outputId": "97ae2e6a-62ea-452f-8f3b-a69bb354f3d0"
      },
      "execution_count": null,
      "outputs": [
        {
          "output_type": "stream",
          "name": "stdout",
          "text": [
            "the 10 is in list 4 times\n",
            "3\n",
            "2\n",
            "2\n",
            "3\n",
            "0\n"
          ]
        }
      ]
    },
    {
      "cell_type": "code",
      "source": [
        "names=['Deepak','Reema','John','Deepak','Munna','Reema','Deepak','Amit','John','Reema']\n",
        "nm=input('Enter name to count: ')\n",
        "count=names.count(nm)\n",
        "print('count = ', count)"
      ],
      "metadata": {
        "colab": {
          "base_uri": "https://localhost:8080/"
        },
        "id": "Mj3r0PXS8LNb",
        "outputId": "13778010-6301-4f13-a63e-cf74da4b9510"
      },
      "execution_count": null,
      "outputs": [
        {
          "output_type": "stream",
          "name": "stdout",
          "text": [
            "Enter name to count: Deepak\n",
            "count =  3\n"
          ]
        }
      ]
    },
    {
      "cell_type": "markdown",
      "source": [
        "**Q 9) Python program to find the sum of elements in a list**\n"
      ],
      "metadata": {
        "id": "HhZ_hYKtAInb"
      }
    },
    {
      "cell_type": "code",
      "source": [
        "# Using for() loop\n",
        "x = list(eval(input(\"Enter list: \")))\n",
        "sum = 0\n",
        "for i in x:\n",
        "  sum = sum+i\n",
        "print(sum)"
      ],
      "metadata": {
        "colab": {
          "base_uri": "https://localhost:8080/"
        },
        "id": "jxe7eP7T-4ex",
        "outputId": "89b5950a-852a-4938-fb03-f25457f79b20"
      },
      "execution_count": null,
      "outputs": [
        {
          "output_type": "stream",
          "name": "stdout",
          "text": [
            "Enter list: [1,5,17,18,23]\n",
            "64\n"
          ]
        }
      ]
    },
    {
      "cell_type": "code",
      "source": [
        "x = [1,5,17,18,23] #we have to use loop\n",
        "\n",
        "\n",
        "sum = 0 \n",
        "\n",
        "for i in x: #iterate each value and add in sum\n",
        "  sum=sum+i\n",
        "print(sum)"
      ],
      "metadata": {
        "colab": {
          "base_uri": "https://localhost:8080/"
        },
        "id": "mcUHvVuw_nH5",
        "outputId": "7d0d70b1-a63d-46ba-db97-04b87fc92cb0"
      },
      "execution_count": null,
      "outputs": [
        {
          "output_type": "stream",
          "name": "stdout",
          "text": [
            "64\n"
          ]
        }
      ]
    },
    {
      "cell_type": "code",
      "source": [
        "#Using While() loop\n",
        "\n",
        "tota=0\n",
        "ele = 0\n",
        "\n",
        "list1 = [1, 5, 17, 18, 23] \n",
        "\n",
        "while(ele < len(list1)):\n",
        "\n",
        "    total = total + list1[ele]\n",
        "\n",
        "    ele += 1\n",
        "print(\"Sum of all elements in given list: \", total)"
      ],
      "metadata": {
        "colab": {
          "base_uri": "https://localhost:8080/"
        },
        "id": "oJ-EObumC1mt",
        "outputId": "92ab8fe9-9872-4464-bfdc-02bf43ce4a8a"
      },
      "execution_count": null,
      "outputs": [
        {
          "output_type": "stream",
          "name": "stdout",
          "text": [
            "Sum of all elements in given list:  205\n"
          ]
        }
      ]
    },
    {
      "cell_type": "markdown",
      "source": [
        "# **Q 10) Python program to Multiply all numbers in the list**\n",
        "\n",
        "Using for loop in user define a function\n",
        "\n",
        "Python functions have to code to traverse the list and multiply each element."
      ],
      "metadata": {
        "id": "--eGKB4HDnCA"
      }
    },
    {
      "cell_type": "code",
      "source": [
        "def multiply(numbers):\n",
        "    total = 1\n",
        "    for x in numbers:\n",
        "        total *= x\n",
        "    return total\n",
        "\n",
        "\n",
        "Lst = [8, 2, 3, -1, 7]\n",
        "\n",
        "print(multiply(Lst))"
      ],
      "metadata": {
        "colab": {
          "base_uri": "https://localhost:8080/"
        },
        "id": "mppD8P7kDkmy",
        "outputId": "73c84ea8-c4b1-4084-b575-032471a0bd25"
      },
      "execution_count": null,
      "outputs": [
        {
          "output_type": "stream",
          "name": "stdout",
          "text": [
            "-336\n"
          ]
        }
      ]
    },
    {
      "cell_type": "code",
      "source": [
        "Lst=[1,4,2,5]\n",
        "print(multiply(Lst))"
      ],
      "metadata": {
        "colab": {
          "base_uri": "https://localhost:8080/"
        },
        "id": "yp2ZHKTBDjcf",
        "outputId": "1b749298-3141-4551-a459-a02f51c1b5f1"
      },
      "execution_count": null,
      "outputs": [
        {
          "output_type": "stream",
          "name": "stdout",
          "text": [
            "40\n"
          ]
        }
      ]
    },
    {
      "cell_type": "code",
      "source": [
        "a= [1,2,3,4,5]\n",
        "mul = 1       #here we cant put initial values as zero. zero mul anything will be zero\n",
        "for i in a:\n",
        "  mul = mul*i\n",
        "print(\"multiplication of list :\",mul)"
      ],
      "metadata": {
        "colab": {
          "base_uri": "https://localhost:8080/"
        },
        "id": "OB6c-Tas-JoT",
        "outputId": "2fa425b9-5f86-4135-87ac-999fe3da029a"
      },
      "execution_count": null,
      "outputs": [
        {
          "output_type": "stream",
          "name": "stdout",
          "text": [
            "multiplication of list : 120\n"
          ]
        }
      ]
    },
    {
      "cell_type": "markdown",
      "source": [
        "**Q 11) What are the ways to find the length of a list**\n",
        "\n",
        "we can fint the length of a list tow ways:-\n",
        "\n",
        "1)Python has got in-built method — len() to find the size of the list i.e. the length of the list.\n",
        "\n",
        "\n",
        "The len() method accepts an iterable as an argument and it counts and returns the number of elements present in the list.\n",
        "\n",
        "Syntax:\n",
        "\n",
        "len(list)\n",
        "\n",
        "2)Using Python for loop to get the length\n",
        "\n",
        "In order to find the length of the list in Python, using for loop is considered as a traditional technique or a naive method in the following manner:\n",
        "\n",
        "Declare a counter variable and initialize it to zero.\n",
        "\n",
        "Using a for loop, traverse through all the data elements and after encountering every element, increment the counter variable by 1.\n",
        "\n",
        "Thus, the length of the array will be stored in the counter variable as the variable will represent the number of elements in the list.\n",
        "\n",
        "counter = 0\n",
        "\n",
        "for item in list:\n",
        "\n",
        " counter+=1\n",
        " \n",
        "print(counter)"
      ],
      "metadata": {
        "id": "lyfKzHv7FwI_"
      }
    },
    {
      "cell_type": "code",
      "source": [
        "c = ['Python','Java','Padas','Machine Learning']\n",
        "size = 0\n",
        "print(\"Length of the input string:\")\n",
        "for x in c:\n",
        "    size+=1\n",
        "print(size)"
      ],
      "metadata": {
        "id": "OILYrywjDiCU",
        "colab": {
          "base_uri": "https://localhost:8080/"
        },
        "outputId": "ef36d04b-596a-4855-d260-105b530643cd"
      },
      "execution_count": null,
      "outputs": [
        {
          "output_type": "stream",
          "name": "stdout",
          "text": [
            "Length of the input string:\n",
            "4\n"
          ]
        }
      ]
    },
    {
      "cell_type": "code",
      "source": [
        "c = ['Python','Java','Padas','Machine Learning']\n",
        "len(c)"
      ],
      "metadata": {
        "colab": {
          "base_uri": "https://localhost:8080/"
        },
        "id": "PUwPXO9v9mqU",
        "outputId": "b2acff83-125a-4164-e3c7-21503085163b"
      },
      "execution_count": null,
      "outputs": [
        {
          "output_type": "execute_result",
          "data": {
            "text/plain": [
              "4"
            ]
          },
          "metadata": {},
          "execution_count": 10
        }
      ]
    },
    {
      "cell_type": "markdown",
      "source": [
        "**Q 12) Python program to find the smallest and largest number in a list (Without min-max function)**\n",
        "\n"
      ],
      "metadata": {
        "id": "bX-nNaHgKMbJ"
      }
    },
    {
      "cell_type": "code",
      "source": [
        "list1 = []\n",
        "num = int(input(\"Enter number of elements in list: \")) \n",
        "for i in range(0, num): \n",
        "    ele = int(input(\"Enter elements: \")) \n",
        "    list1.append(ele)\n",
        "\n",
        "smallnum= list1[ 0 ]\n",
        "for a in list1:\n",
        "    if a < smallnum:\n",
        "        smallnum= a\n",
        "print (\"The smallest number in the list is: \", smallnum)\n",
        "\n",
        "largnum = list1[0]\n",
        "for a in list1:\n",
        "    if a > largnum:\n",
        "        largnum = a\n",
        "print(\"The largest number in the lit is: \", largnum)"
      ],
      "metadata": {
        "colab": {
          "base_uri": "https://localhost:8080/"
        },
        "id": "y7HenbdqYZjj",
        "outputId": "85ae70e0-658d-4abe-e61c-b2f6970d5d08"
      },
      "execution_count": null,
      "outputs": [
        {
          "output_type": "stream",
          "name": "stdout",
          "text": [
            "Enter number of elements in list: 5\n",
            "Enter elements: 3964\n",
            "Enter elements: 638\n",
            "Enter elements: 92647\n",
            "Enter elements: 63\n",
            "Enter elements: 0\n",
            "The smallest number in the list is:  0\n",
            "The largest number in the lit is:  92647\n"
          ]
        }
      ]
    },
    {
      "cell_type": "markdown",
      "source": [
        "# **Q 13) Python Program to find the area of a circle**\n",
        "\n",
        "Algorithm\n",
        "\n",
        "Step 1- Define a function area_of_circle()\n",
        "\n",
        "Step 2- Set pi as constant and initialize to 3.147\n",
        "\n",
        "Step 3- Declare variable area to calculate and store area\n",
        "\n",
        "Step 4- Return area\n",
        "\n",
        "Step 5- Take input of radius from the user\n",
        "\n",
        "Step 6- Pass radius in the function\n",
        "\n",
        "Step 7- Print the result\n",
        "\n",
        "Python Program\n",
        "Look at the program to understand the implementation of the above-mentioned approach."
      ],
      "metadata": {
        "id": "9z16JbJZZS3D"
      }
    },
    {
      "cell_type": "code",
      "source": [
        "def area_of_circle(r):\n",
        "    pi=8.148\n",
        "    area= pi*r*r\n",
        "    return area\n",
        "\n",
        "radius=float(input(\"Enter Radius: \"))\n",
        "print(\"Area: \",area_of_circle(radius))"
      ],
      "metadata": {
        "colab": {
          "base_uri": "https://localhost:8080/"
        },
        "id": "a-5eWCWnZ5Ju",
        "outputId": "fa9a6dbb-aa54-4bdd-c529-e6cc8410a3d3"
      },
      "execution_count": null,
      "outputs": [
        {
          "output_type": "stream",
          "name": "stdout",
          "text": [
            "Enter Radius: 2\n",
            "Area:  32.592\n"
          ]
        }
      ]
    },
    {
      "cell_type": "markdown",
      "source": [
        "To calculate area, we can also use the pow() function which is a function in the math class of the Python library.\n",
        "\n",
        "The pow(x,y) returns the value of x raised to the power y.\n",
        "\n",
        "In place of pi*r*r in #line 8 of the code, we can also write pi*pow(r,2) to calculate area"
      ],
      "metadata": {
        "id": "8Ie03rI3cK1y"
      }
    },
    {
      "cell_type": "markdown",
      "source": [
        "**Q 14) Take inputs from the user to make a list. Again take one input from the user and search it in the list and delete that element, if found. Iterate over a list using for loop.**"
      ],
      "metadata": {
        "id": "S1ucHjuQcY5t"
      }
    },
    {
      "cell_type": "code",
      "source": [
        "int1=eval(input(\"Enter list : \"))\n",
        "int3 =[]\n",
        "int2 = eval(input(\"enter int find in list: \"))\n",
        "\n",
        "print(int2 in int1) #check int2 is in list or not\n",
        "\n",
        "for i in int1:  #for loop itrate every value \n",
        "  if i==int2:\n",
        "   continue   #if value find in list it will continue and dont print\n",
        "  else:         \n",
        "    int3.append(i)\n",
        "print(int3)"
      ],
      "metadata": {
        "id": "DIr3Oo77cy9Y",
        "colab": {
          "base_uri": "https://localhost:8080/"
        },
        "outputId": "ad8f3cae-ee1c-4dbf-ac1b-a8963708f5a9"
      },
      "execution_count": null,
      "outputs": [
        {
          "output_type": "stream",
          "name": "stdout",
          "text": [
            "Enter list : 1,2,3,4,5,6,7,5,8\n",
            "enter int find in list: 5\n",
            "True\n",
            "[1, 2, 3, 4, 6, 7, 8]\n"
          ]
        }
      ]
    },
    {
      "cell_type": "markdown",
      "source": [
        "**Q 15) You are given a list of integer elements. Make a new list that will store a square of elements of the previous list.** **(With and without list comprehension)**"
      ],
      "metadata": {
        "id": "1opx76O71n6D"
      }
    },
    {
      "cell_type": "code",
      "source": [
        "list1=[2,5,6,12]\n",
        "x=[]\n",
        "for i in list1:\n",
        "  i=i*i\n",
        "  x.append(i)\n",
        "print(x)"
      ],
      "metadata": {
        "colab": {
          "base_uri": "https://localhost:8080/"
        },
        "id": "2AGKIUpq2tHz",
        "outputId": "7e9c5b73-f8f8-4e18-d9fa-cc6e03f97791"
      },
      "execution_count": null,
      "outputs": [
        {
          "output_type": "stream",
          "name": "stdout",
          "text": [
            "[4, 25, 36, 144]\n"
          ]
        }
      ]
    }
  ]
}