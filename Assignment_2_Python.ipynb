{
  "nbformat": 4,
  "nbformat_minor": 0,
  "metadata": {
    "colab": {
      "name": "Copy of Copy of Copy of Copy of Assignment_2_Python.ipynb",
      "provenance": [],
      "include_colab_link": true
    },
    "kernelspec": {
      "name": "python3",
      "display_name": "Python 3"
    },
    "language_info": {
      "name": "python"
    }
  },
  "cells": [
    {
      "cell_type": "markdown",
      "metadata": {
        "id": "view-in-github",
        "colab_type": "text"
      },
      "source": [
        "<a href=\"https://colab.research.google.com/github/sushily1997/Basic_Python_Assignments_1/blob/main/Assignment_2_Python.ipynb\" target=\"_parent\"><img src=\"https://colab.research.google.com/assets/colab-badge.svg\" alt=\"Open In Colab\"/></a>"
      ]
    },
    {
      "cell_type": "markdown",
      "source": [
        ".Q What’s The Difference Between The Python append() and extend() Methods?\n",
        "\n",
        ".Q Write a Python program to append a list to the second list\n",
        "\n",
        ".Q Write a Python program to find the third-largest number in a list \n",
        "\n",
        ".Q Write a Python program to get the frequency of the elements in a list.\n",
        " \n",
        ".Q Write a Python program to check whether a list contains a sublist \n",
        "\n",
        ".Q Write a Python program to generate all sublists of a list\n",
        "\n",
        ".Q Write a Python program to find common items from two lists\n",
        "\n",
        ".Q How to flatten a list in python?\n",
        "\n",
        ".Q How to sort a list in ascending and descending order without using the sort\n",
        "function?\n",
        "\n",
        ".Q How to sort a tuple?\n",
        "\n",
        ".Q Write a Python program to convert a list of multiple integers into a single integer\n",
        "\n",
        "a. [11, 33, 50] >>> 113350\n",
        "\n",
        ".Q Difference between del and clear?\n",
        "\n",
        ".Q Difference between remove and pop?\n",
        "\n",
        ".Q Difference between indexing and Slicing?\n",
        "\n",
        ".Q Difference between sort and sorted?\n",
        "\n",
        ".Q Difference between reverse and reversed?\n",
        "\n",
        ".Q Difference between copy and deep copy?\n",
        "\n",
        ".Q How to check whether the list is empty or not?\n",
        "\n",
        ".Q How to concatenate two lists?\n",
        "\n",
        ".Q How to find the occurrences of an element in the python list?\n",
        "\n",
        ".Q How to flatten a list in python?"
      ],
      "metadata": {
        "id": "e0nOL6f1XPdv"
      }
    },
    {
      "cell_type": "code",
      "source": [
        ""
      ],
      "metadata": {
        "id": "9SyaoqLeXgIN"
      },
      "execution_count": null,
      "outputs": []
    },
    {
      "cell_type": "markdown",
      "source": [
        "**Q 1) What’s The Difference Between The Python append() and extend() Methods?**\n",
        "\n",
        "**APPEND()**\n",
        "\n",
        "•The element passed in the argument is added at the end of the list.\n",
        "\n",
        "•The element passed as an argument will be added as a single element without any changes\n",
        "\n",
        "•The length of the list will increase by 1.\n",
        "\n",
        "•The append() function has a constant time complexity of O(1).\n",
        "\n",
        "**Extend()**\n",
        "\n",
        "•Each element of the iterable is passed as ab argument is added at the end of the list.\n",
        "\n",
        "•The iterable passed as an argument will append each of its elements at the end of the list.\n",
        "\n",
        "•The length of the list will increase by the number of elements in the iterable.\n",
        "\n",
        "•The extend() function has a time complexity of O(k), where \"k\" is the length of the iterable."
      ],
      "metadata": {
        "id": "31d8L-rRoMo_"
      }
    },
    {
      "cell_type": "code",
      "source": [
        "#append \n",
        "a= [1,2,3,4,5,6]\n",
        "a.append(23)\n",
        "print(a)"
      ],
      "metadata": {
        "id": "1US3SARP4HrJ",
        "outputId": "ce079962-5795-4110-e4a1-de44785f1b28",
        "colab": {
          "base_uri": "https://localhost:8080/"
        }
      },
      "execution_count": 63,
      "outputs": [
        {
          "output_type": "stream",
          "name": "stdout",
          "text": [
            "[1, 2, 3, 4, 5, 6, 23]\n"
          ]
        }
      ]
    },
    {
      "cell_type": "code",
      "source": [
        "x = [1,2,3,4,5,6]\n",
        "y = [6,7,8,9,4,3]\n",
        "\n",
        "x.extend(y)\n",
        "print(x)"
      ],
      "metadata": {
        "id": "3pLbCDQ_4H85",
        "outputId": "309e773c-6385-45dc-cb2e-30fd1050286a",
        "colab": {
          "base_uri": "https://localhost:8080/"
        }
      },
      "execution_count": 65,
      "outputs": [
        {
          "output_type": "stream",
          "name": "stdout",
          "text": [
            "[1, 2, 3, 4, 5, 6, 6, 7, 8, 9, 4, 3]\n"
          ]
        }
      ]
    },
    {
      "cell_type": "markdown",
      "source": [
        "**Q 2) Write a Python program to append a list to the second list**\n",
        "\n",
        "Append a list to another list – For Loop\n",
        "\n",
        "You can also use a For Loop to iterate over the elements of second list, and append each of these elements to the first list using list.append() function.\n",
        "\n",
        "Python Program\n",
        "\n"
      ],
      "metadata": {
        "id": "oxQ5rwrUpZvb"
      }
    },
    {
      "cell_type": "code",
      "source": [
        "list1 = [1,2,3,4,5]\n",
        "list2 = [11,12,13,14,15]\n",
        "#append each item of list2 to list1\n",
        "for item in list2:\n",
        "    list1.append(item)\n",
        "#print the extended list\n",
        "print(list1)"
      ],
      "metadata": {
        "id": "cu5vnvTyqMYb",
        "outputId": "c8cd65be-470d-4102-a544-c9309a16ed7e",
        "colab": {
          "base_uri": "https://localhost:8080/"
        }
      },
      "execution_count": null,
      "outputs": [
        {
          "output_type": "stream",
          "name": "stdout",
          "text": [
            "[1, 2, 3, 4, 5, 11, 12, 13, 14, 15]\n"
          ]
        }
      ]
    },
    {
      "cell_type": "markdown",
      "source": [
        "**Q 3) Write a Python program to find the third-largest number in a list**\n",
        "\n",
        "\n",
        "\n",
        "\n"
      ],
      "metadata": {
        "id": "NpYHfzWkq9bZ"
      }
    },
    {
      "cell_type": "code",
      "source": [
        "#using sort()\n",
        "a=[5,8,2,9,4,10,7]\n",
        "a.sort()\n",
        "print(a[-3])"
      ],
      "metadata": {
        "id": "4J68khWuvDfw",
        "outputId": "db85bfb3-a2b3-4e36-8ba0-cacad23e9ca5",
        "colab": {
          "base_uri": "https://localhost:8080/"
        }
      },
      "execution_count": 27,
      "outputs": [
        {
          "output_type": "stream",
          "name": "stdout",
          "text": [
            "8\n"
          ]
        }
      ]
    },
    {
      "cell_type": "code",
      "source": [
        "l=[5,8,2,9,4,10,7]\n",
        "for j in range(3):\n",
        "  max=l[0]\n",
        "  for i in l:\n",
        "    if i>max: max=i\n",
        "  if j==2: \n",
        "    print(max)\n",
        "  else: l.remove(max)"
      ],
      "metadata": {
        "id": "fsTKUTxyzXQ0",
        "outputId": "a360af45-5f56-400f-a895-eac67f2d22bb",
        "colab": {
          "base_uri": "https://localhost:8080/"
        }
      },
      "execution_count": null,
      "outputs": [
        {
          "output_type": "stream",
          "name": "stdout",
          "text": [
            "8\n"
          ]
        }
      ]
    },
    {
      "cell_type": "markdown",
      "source": [
        " **Q 4) Write a Python program to get the frequency of the elements in a list.**"
      ],
      "metadata": {
        "id": "B0OEP8BJwGA7"
      }
    },
    {
      "cell_type": "code",
      "source": [
        "#Count\n",
        "x=[1,3,634,36,26,36,24,26,1,3,1,3,1,55,1]\n",
        "print(x.count(1))\n",
        "print(x.count(26))\n",
        "print(x.count(3))"
      ],
      "metadata": {
        "id": "CBkSsucGvf5Q",
        "outputId": "45cea9c3-ea8e-427a-9e46-240a863fd201",
        "colab": {
          "base_uri": "https://localhost:8080/"
        }
      },
      "execution_count": 28,
      "outputs": [
        {
          "output_type": "stream",
          "name": "stdout",
          "text": [
            "5\n",
            "2\n",
            "3\n"
          ]
        }
      ]
    },
    {
      "cell_type": "code",
      "source": [
        "# initializing the list\n",
        "My_list = ['A', 'A', 'B', 'C', 'B', 'D', 'D', 'A', 'B']\n",
        "frequency = {}\n",
        "\n",
        "# iterating over the list\n",
        "for i in My_list:\n",
        "   # checking the element in dictionary\n",
        "   if i in frequency:\n",
        "      # incrementing the counr\n",
        "      frequency[i] += 1\n",
        "   else:\n",
        "      # initializing the count\n",
        "      frequency[i] = 1\n",
        "\n",
        "# printing the frequency\n",
        "print(frequency)"
      ],
      "metadata": {
        "id": "oKVG95ZG3YEP",
        "colab": {
          "base_uri": "https://localhost:8080/"
        },
        "outputId": "60fe91d7-9eaa-4091-99f8-33fa76824639"
      },
      "execution_count": null,
      "outputs": [
        {
          "output_type": "stream",
          "name": "stdout",
          "text": [
            "{'A': 3, 'B': 3, 'C': 1, 'D': 2}\n"
          ]
        }
      ]
    },
    {
      "cell_type": "markdown",
      "source": [
        "**Q 5) Write a Python program to check whether a list contains a sublist**"
      ],
      "metadata": {
        "id": "D8IQ0xxIj9Rz"
      }
    },
    {
      "cell_type": "code",
      "source": [
        "\n",
        "# Check for Sublist in List\n",
        "# Using loop + list slicing\n",
        "\n",
        "test_list = [5, 6, 3, 8, 2, 1, 7, 1]\n",
        "\n",
        "# printing original list \n",
        "\n",
        "print(\"The original list : \",test_list)\n",
        "\n",
        "# initializing sublist \n",
        "\n",
        "sublist = [8, 2, 1]\n",
        "\n",
        "# Check for Sublist in List\n",
        "# Using loop + list slicing\n",
        "\n",
        "list1 = False\n",
        "for i in range(len(test_list) - len(sublist) + 1):\n",
        "\n",
        "        if test_list[i : i + len(sublist)] == sublist:\n",
        "            list1= True\n",
        "            break \n",
        "\n",
        "# printing result \n",
        "print(\"Is sublist present in list : \",list1)"
      ],
      "metadata": {
        "id": "AbIHiswg3ap3",
        "outputId": "2b7c7e72-659b-4921-a3cb-a45e3f496dad",
        "colab": {
          "base_uri": "https://localhost:8080/"
        }
      },
      "execution_count": 1,
      "outputs": [
        {
          "output_type": "stream",
          "name": "stdout",
          "text": [
            "The original list :  [5, 6, 3, 8, 2, 1, 7, 1]\n",
            "Is sublist present in list :  True\n"
          ]
        }
      ]
    },
    {
      "cell_type": "markdown",
      "source": [
        "**Q 6) Write a Python program to generate all sublists of a list**"
      ],
      "metadata": {
        "id": "1ajE8Keg3Y8B"
      }
    },
    {
      "cell_type": "code",
      "source": [
        "\n",
        "# Python program to print all \n",
        "# sublist from a given list \n",
        " \n",
        "# function to generate all the sub lists\n",
        "\n",
        "def sub_lists (l):\n",
        "\n",
        "    lists = [[]]\n",
        "\n",
        "    for i in range(len(l) + 1):\n",
        "\n",
        "        for j in range(i):\n",
        "\n",
        "            lists.append(l[j: i])\n",
        "\n",
        "    return lists\n",
        " \n",
        "# driver code\n",
        "\n",
        "l1 = [1, 2, 3,4,5,6,7,8]\n",
        "\n",
        "print(sub_lists(l1))"
      ],
      "metadata": {
        "colab": {
          "base_uri": "https://localhost:8080/"
        },
        "id": "8Ivnt7ybl4NZ",
        "outputId": "15a00536-3e4d-4afb-c65a-6138729f07bb"
      },
      "execution_count": null,
      "outputs": [
        {
          "output_type": "stream",
          "name": "stdout",
          "text": [
            "[[], [1], [1, 2], [2], [1, 2, 3], [2, 3], [3], [1, 2, 3, 4], [2, 3, 4], [3, 4], [4], [1, 2, 3, 4, 5], [2, 3, 4, 5], [3, 4, 5], [4, 5], [5], [1, 2, 3, 4, 5, 6], [2, 3, 4, 5, 6], [3, 4, 5, 6], [4, 5, 6], [5, 6], [6], [1, 2, 3, 4, 5, 6, 7], [2, 3, 4, 5, 6, 7], [3, 4, 5, 6, 7], [4, 5, 6, 7], [5, 6, 7], [6, 7], [7], [1, 2, 3, 4, 5, 6, 7, 8], [2, 3, 4, 5, 6, 7, 8], [3, 4, 5, 6, 7, 8], [4, 5, 6, 7, 8], [5, 6, 7, 8], [6, 7, 8], [7, 8], [8]]\n"
          ]
        }
      ]
    },
    {
      "cell_type": "markdown",
      "source": [
        "**Q 7) Write a Python program to find common items from two lists**"
      ],
      "metadata": {
        "id": "3FA5uuBkHX0u"
      }
    },
    {
      "cell_type": "code",
      "source": [
        "a=[1,2,6,3,4,5]\n",
        "b=[9,8,7,2,5,3]\n",
        "def common(lst1, lst2): \n",
        "    return list(set(lst1) & set(lst2))\n",
        "e=common(a,b)\n",
        "print(e)"
      ],
      "metadata": {
        "id": "YUPYJ3s_KAsl",
        "outputId": "330865c6-8dee-45b3-91fc-3df36e09f7a0",
        "colab": {
          "base_uri": "https://localhost:8080/"
        }
      },
      "execution_count": null,
      "outputs": [
        {
          "output_type": "stream",
          "name": "stdout",
          "text": [
            "[2, 3, 5]\n"
          ]
        }
      ]
    },
    {
      "cell_type": "markdown",
      "source": [
        "**Q 8)How to flatten a list in python?**"
      ],
      "metadata": {
        "id": "gsZI9eddKbgK"
      }
    },
    {
      "cell_type": "code",
      "source": [
        "# defining a list  \n",
        "my_list = [[1, 2, 3, 4], [5, 6, 7], [8, 9]]  \n",
        "  \n",
        "# using the sum function  \n",
        "flist = sum(my_list, [])  \n",
        "  \n",
        "print('The old list:', my_list)  \n",
        "print('The Flattened list:', flist)"
      ],
      "metadata": {
        "id": "hGivR6jsNz6E",
        "outputId": "11adb69b-f095-45ea-f85c-425d18d87772",
        "colab": {
          "base_uri": "https://localhost:8080/"
        }
      },
      "execution_count": 3,
      "outputs": [
        {
          "output_type": "stream",
          "name": "stdout",
          "text": [
            "The old list: [[1, 2, 3, 4], [5, 6, 7], [8, 9]]\n",
            "The Flattened list: [1, 2, 3, 4, 5, 6, 7, 8, 9]\n"
          ]
        }
      ]
    },
    {
      "cell_type": "code",
      "source": [
        "# Defining the list  \n",
        "nestedlist = [[1, 2, 3], [3, 5, 6], [4, 6, 7], 7]  \n",
        "  \n",
        "# Using lambda parameters: expression  \n",
        "flattenlist = lambda nestedlist:[item for element in nestedlist for item in flattenlist(element)] if type(nestedlist) is list else [nestedlist]  \n",
        "  \n",
        "print(\"The Nested list:\", nestedlist)  \n",
        "print(\"The Flattened List:\", flattenlist(nestedlist))"
      ],
      "metadata": {
        "id": "FFrGzcCNNdG-",
        "outputId": "7eafe958-947f-43b5-a6c2-ce7538765290",
        "colab": {
          "base_uri": "https://localhost:8080/"
        }
      },
      "execution_count": 2,
      "outputs": [
        {
          "output_type": "stream",
          "name": "stdout",
          "text": [
            "The Nested list: [[1, 2, 3], [3, 5, 6], [4, 6, 7], 7]\n",
            "The Flattened List: [1, 2, 3, 3, 5, 6, 4, 6, 7, 7]\n"
          ]
        }
      ]
    },
    {
      "cell_type": "markdown",
      "source": [
        "**Q 9) How to sort a list in ascending and descending order without using the sort function?**"
      ],
      "metadata": {
        "id": "X6O64AMvO1Ru"
      }
    },
    {
      "cell_type": "code",
      "source": [
        "s=[4,3,2,1,6,8,7,5]\n",
        "for i in range(len(s)):\n",
        "    for j in range(i+1,len(s)):\n",
        "      if s[i]>s[j]:\n",
        "        s[i],s[j]=s[j],s[i]\n",
        "print('Ascending list :',s)\n",
        "for i in range(len(s)):\n",
        "  for j in range(i+1,len(s)):\n",
        "    if s[i]<s[j]:\n",
        "      s[i],s[j]=s[j],s[i]\n",
        "print('Descending list:',s)"
      ],
      "metadata": {
        "id": "IInNZcr8pfdV",
        "outputId": "14fea0dd-83b7-4aaf-93d5-29426b640bf2",
        "colab": {
          "base_uri": "https://localhost:8080/"
        }
      },
      "execution_count": 24,
      "outputs": [
        {
          "output_type": "stream",
          "name": "stdout",
          "text": [
            "Ascending list : [1, 2, 3, 4, 5, 6, 7, 8]\n",
            "Descending list: [8, 7, 6, 5, 4, 3, 2, 1]\n"
          ]
        }
      ]
    },
    {
      "cell_type": "markdown",
      "source": [
        "**Q 10) How to sort a tuple?**\n",
        "\n",
        "To sort a Tuple in Python, use sorted() builtin function. Pass the tuple as argument to sorted() function. The function returns a list with the items of tuple sorted in ascending order. We may convert this list to tuple using tuple().\n",
        "\n",
        "We can also specify the sorting order via reverse parameter to sorted() function. The default sorting order is ascending. reverse=True sorts the items in descending order.\n",
        "\n",
        "Also, we can specify a key function, based on whose returned values, sorting of items is done."
      ],
      "metadata": {
        "id": "eCAvMbMzRwXm"
      }
    },
    {
      "cell_type": "code",
      "source": [
        "aTuple=(2,5,8,6,4,1,9,3,7)\n",
        "result=sorted(aTuple)\n",
        "result=tuple(result)\n",
        "print('Sorted Tuple:',result)"
      ],
      "metadata": {
        "id": "kE8Ey5zCte5j",
        "outputId": "5914ee83-394f-4b06-dd67-b9759a271849",
        "colab": {
          "base_uri": "https://localhost:8080/"
        }
      },
      "execution_count": 26,
      "outputs": [
        {
          "output_type": "stream",
          "name": "stdout",
          "text": [
            "Sorted Tuple: (1, 2, 3, 4, 5, 6, 7, 8, 9)\n"
          ]
        }
      ]
    },
    {
      "cell_type": "markdown",
      "source": [
        "**Q 11) Write a Python program to convert a list of multiple integers into a single integer**"
      ],
      "metadata": {
        "id": "QiMZ7sJzS2zb"
      }
    },
    {
      "cell_type": "code",
      "source": [
        "a=[11,33,50]\n",
        "for i in a:\n",
        "  print(i,end=\"\")"
      ],
      "metadata": {
        "id": "7AkNE60Aw2AZ",
        "outputId": "f94499e9-5556-4f6a-a688-6a5a40a5c546",
        "colab": {
          "base_uri": "https://localhost:8080/"
        }
      },
      "execution_count": 29,
      "outputs": [
        {
          "output_type": "stream",
          "name": "stdout",
          "text": [
            "113350"
          ]
        }
      ]
    },
    {
      "cell_type": "code",
      "source": [
        "mint = [11,33,50]\n",
        "# Given list\n",
        "print(\"Given multiple integers: \", mint)\n",
        "# Use\n",
        "x = int(\"\".join([str(i) for i in mint]))\n",
        "# Result\n",
        "print(\"The single integer is : \",x)"
      ],
      "metadata": {
        "id": "pKclQVY8Sc6m",
        "outputId": "e87ebde0-8fc0-4c4a-9de8-f5a52640037a",
        "colab": {
          "base_uri": "https://localhost:8080/"
        }
      },
      "execution_count": 12,
      "outputs": [
        {
          "output_type": "stream",
          "name": "stdout",
          "text": [
            "Given multiple integers:  [11, 33, 50]\n",
            "The single integer is :  113350\n"
          ]
        }
      ]
    },
    {
      "cell_type": "markdown",
      "source": [
        "**Q 12) Difference between del and clear?**\n",
        "\n",
        "**Del**\n",
        "\n",
        "•del is a keyword\n",
        "\n",
        "•To delete value it uses the index.\n",
        "\n",
        "•The del keyword doesn’t return any value.\n",
        "\n",
        "•The del keyword can delete the single value from a list or delete the whole list at a time.\n",
        "\n",
        "•It throws index error in case of the index doesn’t exist in the list.\n",
        "\n",
        "**Clear**\n",
        "\n",
        "•The clear()function is used to delete all the element in a dictionary.\n",
        "\n",
        "•The clear()fuction is used to delete all the element in a dictionary structure.\n",
        "\n",
        "•Example:Dict.clear()"
      ],
      "metadata": {
        "id": "38ji3ieuUu9a"
      }
    },
    {
      "cell_type": "code",
      "source": [
        "l=[1,2,3,4]\n",
        "del l\n",
        "print(l)"
      ],
      "metadata": {
        "id": "wgMUrauaxRGY",
        "outputId": "15eb16b5-7797-4715-a038-8683b278291e",
        "colab": {
          "base_uri": "https://localhost:8080/",
          "height": 200
        }
      },
      "execution_count": 30,
      "outputs": [
        {
          "output_type": "error",
          "ename": "NameError",
          "evalue": "ignored",
          "traceback": [
            "\u001b[0;31m---------------------------------------------------------------------------\u001b[0m",
            "\u001b[0;31mNameError\u001b[0m                                 Traceback (most recent call last)",
            "\u001b[0;32m<ipython-input-30-01c3d47bca68>\u001b[0m in \u001b[0;36m<module>\u001b[0;34m()\u001b[0m\n\u001b[1;32m      1\u001b[0m \u001b[0ml\u001b[0m\u001b[0;34m=\u001b[0m\u001b[0;34m[\u001b[0m\u001b[0;36m1\u001b[0m\u001b[0;34m,\u001b[0m\u001b[0;36m2\u001b[0m\u001b[0;34m,\u001b[0m\u001b[0;36m3\u001b[0m\u001b[0;34m,\u001b[0m\u001b[0;36m4\u001b[0m\u001b[0;34m]\u001b[0m\u001b[0;34m\u001b[0m\u001b[0;34m\u001b[0m\u001b[0m\n\u001b[1;32m      2\u001b[0m \u001b[0;32mdel\u001b[0m \u001b[0ml\u001b[0m\u001b[0;34m\u001b[0m\u001b[0;34m\u001b[0m\u001b[0m\n\u001b[0;32m----> 3\u001b[0;31m \u001b[0mprint\u001b[0m\u001b[0;34m(\u001b[0m\u001b[0ml\u001b[0m\u001b[0;34m)\u001b[0m\u001b[0;34m\u001b[0m\u001b[0;34m\u001b[0m\u001b[0m\n\u001b[0m",
            "\u001b[0;31mNameError\u001b[0m: name 'l' is not defined"
          ]
        }
      ]
    },
    {
      "cell_type": "code",
      "source": [
        "l=[1,2,3,4]\n",
        "l.clear()\n",
        "print (l)"
      ],
      "metadata": {
        "id": "43w2f3y2xbWz",
        "outputId": "0ec55a54-d62c-4798-d966-507d55997c91",
        "colab": {
          "base_uri": "https://localhost:8080/"
        }
      },
      "execution_count": 32,
      "outputs": [
        {
          "output_type": "stream",
          "name": "stdout",
          "text": [
            "[]\n"
          ]
        }
      ]
    },
    {
      "cell_type": "markdown",
      "source": [
        "**Q 13)Difference between remove and pop?**\n",
        "\n",
        "**Remove**\n",
        "\n",
        "•It is a method.\n",
        "\n",
        "•To delete value this method uses the value as a parameter.\n",
        "\n",
        "•The remove()method doesn't return any value.\n",
        "\n",
        "•At a time it deletes only one value from the list.\n",
        "\n",
        "•It throws value error in case of value doesn't exit in the list.\n",
        "\n",
        "**POP()**\n",
        "\n",
        "•Pop()is a method\n",
        "\n",
        "•This method also uses the index as a parameter to delete.\n",
        "\n",
        "•pop()returns deleted value.\n",
        "\n",
        "•At a time it deletes only one value from the list.\n",
        "\n",
        "•It throws index error in case of an index doesn't exist in the list."
      ],
      "metadata": {
        "id": "rUx2rcnukupy"
      }
    },
    {
      "cell_type": "code",
      "source": [
        "l=[1,2,4,5,7,5]\n",
        "print(l.remove(5))\n",
        "l"
      ],
      "metadata": {
        "id": "A6vEHGR3xuJF",
        "outputId": "6e3044ef-949e-4975-e9aa-b41de99de8a0",
        "colab": {
          "base_uri": "https://localhost:8080/"
        }
      },
      "execution_count": 33,
      "outputs": [
        {
          "output_type": "stream",
          "name": "stdout",
          "text": [
            "None\n"
          ]
        },
        {
          "output_type": "execute_result",
          "data": {
            "text/plain": [
              "[1, 2, 4, 7, 5]"
            ]
          },
          "metadata": {},
          "execution_count": 33
        }
      ]
    },
    {
      "cell_type": "code",
      "source": [
        "print(l.pop())\n",
        "l"
      ],
      "metadata": {
        "id": "kK-K1myWxubO",
        "outputId": "a24aa2bc-982e-40be-af3c-c968dc1dc239",
        "colab": {
          "base_uri": "https://localhost:8080/"
        }
      },
      "execution_count": 37,
      "outputs": [
        {
          "output_type": "stream",
          "name": "stdout",
          "text": [
            "5\n"
          ]
        },
        {
          "output_type": "execute_result",
          "data": {
            "text/plain": [
              "[1, 2, 4, 7]"
            ]
          },
          "metadata": {},
          "execution_count": 37
        }
      ]
    },
    {
      "cell_type": "markdown",
      "source": [
        "**Q 14)Difference between indexing and Slicing?**\n",
        "\n",
        "**Indexing**\n",
        "\n",
        "•Indexing returns one item.\n",
        "\n",
        "•Attempting to use an index that is too large will result in an indexError.\n",
        "\n",
        "•By item assignment in indexing,we can't change the length of the list.\n",
        "\n",
        "•Assignment to Indexing-We can assign a single element or an iterable.\n",
        "\n",
        "**Slicing**\n",
        "\n",
        "•Slicing returns new list/new tuple\n",
        "\n",
        "•Out of range indexes are handled gracefully when used for slicing \n",
        "\n",
        "•By assignment to slicing,we can change the length of the list or even clear the list.\n",
        "\n",
        "•Assignment to slicing-If we aasign a single element,it will raise TypeErtor.it will accept only iterable."
      ],
      "metadata": {
        "id": "gkYLsu3sjPgR"
      }
    },
    {
      "cell_type": "code",
      "source": [
        "a=[1,2,34,6,6,2]\n",
        "print(a[3])"
      ],
      "metadata": {
        "id": "9dUxQ-p4yYuW",
        "outputId": "d09406ed-6a94-4352-da24-9a3dd7aaef4a",
        "colab": {
          "base_uri": "https://localhost:8080/"
        }
      },
      "execution_count": 38,
      "outputs": [
        {
          "output_type": "stream",
          "name": "stdout",
          "text": [
            "6\n"
          ]
        }
      ]
    },
    {
      "cell_type": "code",
      "source": [
        "#Slicing\n",
        "print(a[1:4])"
      ],
      "metadata": {
        "id": "ow_1HcHfyspW",
        "outputId": "fc58c538-ed03-4c20-dc68-cdd311f7decc",
        "colab": {
          "base_uri": "https://localhost:8080/"
        }
      },
      "execution_count": 39,
      "outputs": [
        {
          "output_type": "stream",
          "name": "stdout",
          "text": [
            "[2, 34, 6]\n"
          ]
        }
      ]
    },
    {
      "cell_type": "markdown",
      "source": [
        "**Q 15)Difference between sort and sorted?**\n",
        "\n",
        "**Sort()**\n",
        "\n",
        "•It modifies the list it is called on.That is,the sorted list is stored in the se list;a new list is not created.\n",
        "\n",
        "•It works on a list and modifies it.\n",
        "\n",
        "•It does not return anything (no return value).It modifies the list in place.\n",
        "\n",
        "**Sorted()**\n",
        "\n",
        "•It creates a new list containing a sorted version of the liat passed to it as argument.It does not modify the list passed as a parameter.\n",
        "\n",
        "•It can take any iterable sequence type etc,and it always returns a sorted list irrespective of the type of sequence passed to it.\n",
        "\n",
        "•It returns a newly created sorted list.It does not change the passed sequence."
      ],
      "metadata": {
        "id": "ri7Qxy0PjguM"
      }
    },
    {
      "cell_type": "code",
      "source": [
        "a=[1,2,3,4,9,6,7,5]\n",
        "print(sorted(a))\n",
        "print(a)"
      ],
      "metadata": {
        "id": "HyCctmp9y8lX",
        "outputId": "a0167338-6040-4ab9-da3a-9b6da0c4bc7f",
        "colab": {
          "base_uri": "https://localhost:8080/"
        }
      },
      "execution_count": 41,
      "outputs": [
        {
          "output_type": "stream",
          "name": "stdout",
          "text": [
            "[1, 2, 3, 4, 5, 6, 7, 9]\n",
            "[1, 2, 3, 4, 9, 6, 7, 5]\n"
          ]
        }
      ]
    },
    {
      "cell_type": "code",
      "source": [
        "a.sort()\n",
        "print(a)"
      ],
      "metadata": {
        "id": "UG7TjKiHy830",
        "outputId": "e339a026-19bb-4165-be9f-1af16ab55820",
        "colab": {
          "base_uri": "https://localhost:8080/"
        }
      },
      "execution_count": 42,
      "outputs": [
        {
          "output_type": "stream",
          "name": "stdout",
          "text": [
            "[1, 2, 3, 4, 5, 6, 7, 9]\n"
          ]
        }
      ]
    },
    {
      "cell_type": "markdown",
      "source": [
        "**Q 16) Difference between reverse and reversed?**\n",
        "\n",
        "**Reverse**\n",
        "\n",
        "•Reverse method is used to reverse the list.It will reverse the orignal list.\n",
        "\n",
        "•Return type is None.\n",
        "\n",
        "•Reverse method is supported only by lits.\n",
        "\n",
        "**Reversed**\n",
        "\n",
        "•Reversed()method returns an iterator the accesses the given sequence in the reverse order.\n",
        "\n",
        "•Return type is reversed iterator object.\n",
        "\n",
        "•Reversed function is supported by other iterables(string,tuple,dictionary)"
      ],
      "metadata": {
        "id": "RuMwVnU6kIwP"
      }
    },
    {
      "cell_type": "code",
      "source": [
        "a.reverse()\n",
        "print(a)"
      ],
      "metadata": {
        "id": "2T5L_zG20A5E",
        "outputId": "c3a301d1-1eeb-4af5-cc25-47438b6f1497",
        "colab": {
          "base_uri": "https://localhost:8080/"
        }
      },
      "execution_count": 43,
      "outputs": [
        {
          "output_type": "stream",
          "name": "stdout",
          "text": [
            "[9, 7, 6, 5, 4, 3, 2, 1]\n"
          ]
        }
      ]
    },
    {
      "cell_type": "code",
      "source": [
        "reversed(a)\n",
        "print(a)"
      ],
      "metadata": {
        "id": "jefyjx-p0BPB",
        "outputId": "c67f9985-cb79-418b-f7d6-ecc7d305dd03",
        "colab": {
          "base_uri": "https://localhost:8080/"
        }
      },
      "execution_count": 44,
      "outputs": [
        {
          "output_type": "stream",
          "name": "stdout",
          "text": [
            "[9, 7, 6, 5, 4, 3, 2, 1]\n"
          ]
        }
      ]
    },
    {
      "cell_type": "markdown",
      "source": [
        "**Q 17)Difference between copy and deep copy?**\n",
        "\n",
        "**Copy**\n",
        "\n",
        "•Copy stores the references of objects to the original memory address.   \n",
        "\n",
        "•Copy reflects changes made to the new/copied object in the original object.\n",
        "\n",
        "•Copy stores the copy of the original object and points the references to the objects.\n",
        "\n",
        "•copy is faster.\n",
        "\n",
        "**Deep copy**\n",
        "\n",
        "•Deep copy stores copies of the object’s value.\n",
        "\n",
        "•Deep copy doesn’t reflect changes made to the new/copied object in the original object.\n",
        "\n",
        "•Deep copy stores the copy of the original object and recursively copies the objects as well.\n",
        "\n",
        "•Deep copy is comparatively slower."
      ],
      "metadata": {
        "id": "hHxsbYBxmO6p"
      }
    },
    {
      "cell_type": "code",
      "source": [
        "import copy\n",
        "a= [1,2,3,4,5]\n",
        "\n",
        "a1=copy.copy(a)\n",
        "\n",
        "print(a)\n",
        "print(a1)\n",
        "print(id(a))\n",
        "print(id(a1))\n",
        "\n",
        "a1[0]= 45\n",
        "print(a)\n",
        "print(a1)\n",
        "print(id(a1))"
      ],
      "metadata": {
        "id": "KAlpVrgc0cTt",
        "outputId": "ba95a1f9-7120-4cd9-9358-af45509806ae",
        "colab": {
          "base_uri": "https://localhost:8080/"
        }
      },
      "execution_count": 61,
      "outputs": [
        {
          "output_type": "stream",
          "name": "stdout",
          "text": [
            "[1, 2, 3, 4, 5]\n",
            "[1, 2, 3, 4, 5]\n",
            "140282845552544\n",
            "140282882096816\n",
            "[1, 2, 3, 4, 5]\n",
            "[45, 2, 3, 4, 5]\n",
            "140282882096816\n"
          ]
        }
      ]
    },
    {
      "cell_type": "code",
      "source": [
        "a = [10,12,15,14,16]\n",
        "\n",
        "a1=copy.deepcopy(a)\n",
        "\n",
        "print(a)\n",
        "print(a1)\n",
        "print(id(a))\n",
        "print(id(a1))\n",
        "\n",
        "a1[0]= 477\n",
        "print(a)\n",
        "print(a1)"
      ],
      "metadata": {
        "id": "r6fzlGSS2yhQ",
        "outputId": "eb0ffb44-f642-4d8d-d729-cfa16369f825",
        "colab": {
          "base_uri": "https://localhost:8080/"
        }
      },
      "execution_count": 62,
      "outputs": [
        {
          "output_type": "stream",
          "name": "stdout",
          "text": [
            "[10, 12, 15, 14, 16]\n",
            "[10, 12, 15, 14, 16]\n",
            "140282913971248\n",
            "140282846031536\n",
            "[10, 12, 15, 14, 16]\n",
            "[477, 12, 15, 14, 16]\n"
          ]
        }
      ]
    },
    {
      "cell_type": "markdown",
      "source": [
        "**Q 18)How to check whether the list is empty or not?**"
      ],
      "metadata": {
        "id": "e8jQa9pPnwTj"
      }
    },
    {
      "cell_type": "code",
      "source": [
        "a=[1,2,3,4,5] # Empty lists evaluate to False\n",
        ">>> if not a:\n",
        "    print (\"list is empty\")\n",
        "else:\n",
        "    print (\"list is not empty\")"
      ],
      "metadata": {
        "colab": {
          "base_uri": "https://localhost:8080/"
        },
        "id": "awEXUbNqqWx0",
        "outputId": "61c34921-5666-4199-8fdc-72b9f7aef720"
      },
      "execution_count": null,
      "outputs": [
        {
          "output_type": "stream",
          "name": "stdout",
          "text": [
            "list is not empty\n"
          ]
        }
      ]
    },
    {
      "cell_type": "code",
      "source": [
        "if len(a)==0:\n",
        "    print (\"list is empty\")\n",
        "else:\n",
        "    print (\"list is not empty\")"
      ],
      "metadata": {
        "colab": {
          "base_uri": "https://localhost:8080/"
        },
        "id": "F6pFkhN4qdqj",
        "outputId": "e5db3349-403d-4837-ab0b-18b391639174"
      },
      "execution_count": null,
      "outputs": [
        {
          "output_type": "stream",
          "name": "stdout",
          "text": [
            "list is empty\n"
          ]
        }
      ]
    },
    {
      "cell_type": "markdown",
      "source": [
        "**Q 19)How to concatenate two lists?**"
      ],
      "metadata": {
        "id": "dIjsydoSqzXt"
      }
    },
    {
      "cell_type": "code",
      "source": [
        "#Concatenation Operator(+)\n",
        "list_one = [0, 1, 2, 3, 4]\n",
        "list_two = [5, 6, 7, 8, 9]\n",
        "\n",
        "# add two lists using + operator\n",
        "result = list_one + list_two\n",
        "\n",
        "print(result)"
      ],
      "metadata": {
        "colab": {
          "base_uri": "https://localhost:8080/"
        },
        "id": "By53rdqam1Zh",
        "outputId": "6ef47e4e-adc3-43fd-a542-e5ea67e44277"
      },
      "execution_count": null,
      "outputs": [
        {
          "output_type": "stream",
          "name": "stdout",
          "text": [
            "[0, 1, 2, 3, 4, 5, 6, 7, 8, 9]\n"
          ]
        }
      ]
    },
    {
      "cell_type": "markdown",
      "source": [
        "**Q 20)How to find the occurrences of an element in the python list?**"
      ],
      "metadata": {
        "id": "w5UFf9hCrXOz"
      }
    },
    {
      "cell_type": "code",
      "source": [
        " \n",
        "#Using count operator\n",
        "my_list = [3,1,8,1,3,1,7,3,10,1,1,3]\n",
        "\n",
        "#using count()\n",
        "count = my_list.count(1)\n",
        "\n",
        "print(\"Count of 1 in my list is:\", count)"
      ],
      "metadata": {
        "colab": {
          "base_uri": "https://localhost:8080/"
        },
        "id": "HoilM-bspDCJ",
        "outputId": "5f3fe344-f7c5-42c3-fa84-87a3b4b10880"
      },
      "execution_count": null,
      "outputs": [
        {
          "output_type": "stream",
          "name": "stdout",
          "text": [
            "Count of 1 in my list is: 5\n"
          ]
        }
      ]
    },
    {
      "cell_type": "markdown",
      "source": [
        "**Q 21)How to flatten a list in python?**"
      ],
      "metadata": {
        "id": "a3dd92_HrHuh"
      }
    },
    {
      "cell_type": "code",
      "source": [
        "\n",
        "# Using loop\n",
        "# initializing the data and an empty list\n",
        "data = [[1, 2, 3], [4, 5], [6, 7, 8, 9, 10]]\n",
        "flat_list = []\n",
        "\n",
        "for item in data: # appending elements to the flat_list\n",
        "    flat_list += item # printing the flat_list\n",
        "print(flat_list)"
      ],
      "metadata": {
        "colab": {
          "base_uri": "https://localhost:8080/"
        },
        "id": "5ey-Usp8qdHP",
        "outputId": "314d0a57-61ec-40f3-e25b-a53b6318adb9"
      },
      "execution_count": null,
      "outputs": [
        {
          "output_type": "stream",
          "name": "stdout",
          "text": [
            "[1, 2, 3, 4, 5, 6, 7, 8, 9, 10]\n"
          ]
        }
      ]
    }
  ]
}